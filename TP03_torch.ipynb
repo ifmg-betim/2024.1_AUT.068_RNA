{
 "cells": [
  {
   "cell_type": "markdown",
   "metadata": {},
   "source": [
    "<a href=\"https://colab.research.google.com/github/ifmg-betim/2024.1_AUT.068_RNA/blob/main/TP03_torch.ipynb\" target=\"_parent\"><img src=\"https://colab.research.google.com/assets/colab-badge.svg\" alt=\"Open In Colab\"/></a>"
   ]
  },
  {
   "cell_type": "markdown",
   "metadata": {},
   "source": [
    "# TP03 - [`seu nome e (RA)`]\n",
    "\n",
    "Neste TP você implementará uma rede MLP usando biblioteca PyTorch para um problema de classificação de imagens.\n",
    "\n",
    "**Instruções:**\n",
    "- Recomendo que esse TP seja executado no Google Colab!\n",
    "- Não apague os comentários existentes, mas você pode adicionar outros comentários!\n",
    "\n",
    "**Objetivos**\n",
    "- Implementar uma rede MLP para classificação de imagens\n",
    "- Usar biblioteca Pytorch para implementação"
   ]
  },
  {
   "cell_type": "markdown",
   "metadata": {},
   "source": [
    "## Escreva o seu RA na variável abaixo\n",
    "Atribua o número do seu RA, sem os zeros à esquerda, na variável `RA` abaixo."
   ]
  },
  {
   "cell_type": "code",
   "execution_count": null,
   "metadata": {},
   "outputs": [],
   "source": [
    "### SEU CÓDIGO COMEÇA AQUI ### (≈ 1 linha de código)\n",
    "RA = None\n",
    "### FIM DO CÓDIGO ###"
   ]
  },
  {
   "cell_type": "markdown",
   "metadata": {},
   "source": [
    "## Bibliotecas\n",
    "\n",
    "Você usará a biblioteca PyTorch neste trabalho.\n",
    "\n",
    "<mark>**Faça**</mark>: Rode o código abaixo para importar o PyTorch e verificar sua versão. Se não rodar, você pode precisar instalar, acesse: https://pytorch.org/get-started/locally/"
   ]
  },
  {
   "cell_type": "code",
   "execution_count": null,
   "metadata": {},
   "outputs": [],
   "source": [
    "import torch\n",
    "print(torch.__version__)"
   ]
  },
  {
   "cell_type": "markdown",
   "metadata": {},
   "source": [
    "## Dados\n",
    "\n",
    "### Importando os dados\n",
    "\n",
    "Você trabalhará com a base de dados MNIST, que contém 70 mil imagens, em escala de cinza, de dígitos manuscritos (0-9) e seus respectivos rótulos. Esta base de dados pode ser acessada via Pytorch (`torchvision.dataset`) e é dividida em 60.000 amostras de treinamento e 10.000 amostras de teste.\n",
    "\n",
    "<mark>**Faça**</mark>: Rode o código abaixo para importar os dados. No espaço abaixo, use a função `random_split` para segregar os dados contidos em `mnist_data` em 55.000 amostras de treinamento e 5.000 de validação."
   ]
  },
  {
   "cell_type": "code",
   "execution_count": null,
   "metadata": {},
   "outputs": [],
   "source": [
    "import os, time, numpy as np, matplotlib.pyplot as plt\n",
    "import torchvision\n",
    "from torchvision import transforms\n",
    "from torchvision.datasets import MNIST\n",
    "from torch.utils.data import random_split\n",
    "\n",
    "# para normalização dos dados\n",
    "mnist_transform = transforms.Compose([transforms.ToTensor(), transforms.Normalize((0.1307,), (0.3081,)) ])\n",
    "\n",
    "# Carrega dados de treinamento / validação\n",
    "mnist_data = MNIST(os.getcwd(), train=True, download=True, transform=mnist_transform)\n",
    "\n",
    "# Carrega dados de teste\n",
    "mnist_test = MNIST(os.getcwd(), train=False, download=True, transform=mnist_transform)\n",
    "\n",
    "############################################################\n",
    "### SEU CÓDIGO COMEÇA AQUI ### (≈ 1 linha de código)\n",
    "None\n",
    "### FIM DO CÓDIGO ###\n",
    "############################################################\n",
    "\n",
    "# Mostrando uma amostra de imagem de entrada\n",
    "image, label = mnist_data.__getitem__(RA%60000)\n",
    "plt.imshow(  image.view(28,28).numpy(), cmap = 'gray_r' )\n",
    "plt.axis('off')\n",
    "plt.show()"
   ]
  },
  {
   "cell_type": "markdown",
   "metadata": {},
   "source": [
    "### Manipulando os dados de entrada e saída\n",
    "\n",
    "Para facilitar a manipulação dos dados, são criados objetos `DataLoaders`. Esses objetos podem ser criados usando a função `DataLoader` que já foi importada pelo código abaixo. Note o parâmetro `batch_size` da função, em que deve ser informado o tamanho do mini-batch. Esse parâmetro será útil daqui a pouco no treinamento, mas, aqui, por enquanto, coloque o valor `64` para o tamanho do mini-batch.\n",
    "\n",
    "<mark>**Faça**</mark>: Use a função `DataLoader` para gerar objetos que façam a manipulação dos dados. Usando a função `torchvision.utils.make_grid`, mostre imagens de 1 mini-batch dos dados de treinamento."
   ]
  },
  {
   "cell_type": "code",
   "execution_count": null,
   "metadata": {},
   "outputs": [],
   "source": [
    "from torch.utils.data import DataLoader\n",
    "\n",
    "############################################################\n",
    "### SEU CÓDIGO COMEÇA AQUI ### (≈ 20 linhas de código)\n",
    "\n",
    "# Data loaders\n",
    "n_batch = 64\n",
    "loader_trn = None\n",
    "loader_val = None\n",
    "loader_tst = None\n",
    "\n",
    "# Carrega 1 batelada de dados de treinamento\n",
    "images, labels = iter(loader_trn).__next__()\n",
    "\n",
    "# Constrói um grid com 1 batelada de imagens\n",
    "image_grid = None\n",
    "\n",
    "# Mostra imagem\n",
    "None\n",
    "\n",
    "### FIM DO CÓDIGO ###\n",
    "############################################################"
   ]
  },
  {
   "cell_type": "markdown",
   "metadata": {},
   "source": [
    "### Balanceamento dos dados\n",
    "<mark>**Faça**</mark>: para cada conjunto de dados (treinamento, validação e teste), verifique a quantidade de amostras de cada \"rótulo\". Use o método `.bincount()` para contar as amostras dos `targets` nos dados. Faça um gráfico mostrando a quantidade de dados de cada amostra (dígitos de 0 a 9) nos dados de treinamento, validação e teste."
   ]
  },
  {
   "cell_type": "code",
   "execution_count": null,
   "metadata": {},
   "outputs": [],
   "source": [
    "############################################################\n",
    "### SEU CÓDIGO COMEÇA AQUI ### (≈ 14 linhas de código)\n",
    "None\n",
    "### FIM DO CÓDIGO ###\n",
    "############################################################"
   ]
  },
  {
   "cell_type": "markdown",
   "metadata": {},
   "source": [
    "## Modelo\n",
    "Agora você vai criar uma classe para implementar um modelo de rede neural de 2 camadas. A classe deve se basear na classe `nn.Module`, ou seja, você criará uma classe \"filha\" da `nn.Module`. Para fazer isso, defina o nome da classe como `class nome_da_classe(nn.Module)` e escreva o comando `super(nome_da_classe, self).__init__()` no método `__init__` da classe que será criada. Assim, a classe criada usará como base a `nn.Module`, herdando todos os métodos já definidos na biblioteca do PyTorch.\n",
    "\n",
    "<mark>**Faça**</mark>: crie uma classe com nome `nn_2camadas`, que implementa um modelo de 2 camadas. A inicialização da classe deve ter os parâmetros de número de entradas (`dim_in`), número de neurônios na camada escondida (`dim_hidden`) e número de saídas (`dim_out`). Escolha adequadamente as funções de ativação. A classe deve implementar ainda o método `forward` que calcula a saída da rede neural. Após criar a classe, rode o código abaixo para verificar o funcionamento. Confira a dimensão e características do vetor de saída `yh`."
   ]
  },
  {
   "cell_type": "code",
   "execution_count": null,
   "metadata": {},
   "outputs": [],
   "source": [
    "import torch.nn as nn\n",
    "\n",
    "############################################################\n",
    "### SEU CÓDIGO COMEÇA AQUI ### (≈ 20 linhas de código)\n",
    "\n",
    "# definição da classe do modelo de 2 camadas (nn_2camadas)\n",
    "None\n",
    "\n",
    "### FIM DO CÓDIGO ###\n",
    "############################################################\n",
    "\n",
    "# parâmetros da rede\n",
    "dim_in, dim_hidden, dim_out = 28*28, 10, 10\n",
    "\n",
    "# instancia modelo\n",
    "modelo = nn_2camadas(dim_in, dim_hidden, dim_out)\n",
    "\n",
    "# teste inicial do modelo\n",
    "images, labels = iter(loader_tst).__next__()\n",
    "yh = modelo(images)\n",
    "\n",
    "print(yh.shape) # yh.shape => [#samples, #classes]\n",
    "print(yh[0,:]) # ==> yh da primeira amostra"
   ]
  },
  {
   "cell_type": "markdown",
   "metadata": {},
   "source": [
    "### Hardware usado na execução do código\n",
    "\n",
    "O código abaixo verifica se há GPUs (CUDA) disponíveis para rodar o código. Caso não haja, o código é executado na CPU mesmo. Note que a informação do hardware de execução (CPU ou GPU) fica armazenada na variável `device`.\n",
    "\n",
    "<mark>**Faça**</mark>: rode o código abaixo e veja qual hardware disponível para rodar o código."
   ]
  },
  {
   "cell_type": "code",
   "execution_count": null,
   "metadata": {},
   "outputs": [],
   "source": [
    "cuda = torch.cuda.is_available()\n",
    "device = torch.device(\"cuda:0\" if cuda else \"cpu\")\n",
    "print(device)"
   ]
  },
  {
   "cell_type": "markdown",
   "metadata": {},
   "source": [
    "### Treinamento\n",
    "\n",
    "Para implementar o treinamento, você deve:\n",
    "- definir o conjunto de dados e tamanho do mini-batch, usando `DataLoader` (mesmo código usado anteriormente)\n",
    "- definir o modelo (instanciar a classe passando os parâmetros adequados)\n",
    "- definir parâmetros de otimização, estabelecendo uma \"função perda\" e um otimizador (`optim`)\n",
    "- colocar o modelo em modo \"treinamento\" usando `modelo.train()` (para colocar em modo \"teste\", use `modelo.eval()`)\n",
    "- fazer laço de otimização\n",
    "\n",
    "<mark>**Faça**</mark>: implemente o treinamento da rede. Escolha livremente os hiperparâmetros."
   ]
  },
  {
   "cell_type": "code",
   "execution_count": null,
   "metadata": {},
   "outputs": [],
   "source": [
    "# Importa otimizador\n",
    "import torch.optim as optim\n",
    "\n",
    "############################################################\n",
    "### SEU CÓDIGO COMEÇA AQUI ### (≈ 60 linhas de código)\n",
    "\n",
    "# DADOS ==> Tamanho do batch\n",
    "n_batch = None\n",
    "loader_trn = None\n",
    "loader_val = None\n",
    "loader_tst = None\n",
    "\n",
    "# MODELO ==> instancia modelo\n",
    "None\n",
    "\n",
    "# OTIMIZAÇÃO ==> Função de perda\n",
    "lossFun = None\n",
    "\n",
    "# ==> Otimizador\n",
    "optimizer = None\n",
    "\n",
    "# TREINAMENTO ==> Treinamento\n",
    "tic = time.time()\n",
    "nEpoch = None\n",
    "\n",
    "#laço de treinamento\n",
    "None\n",
    "\n",
    "### FIM DO CÓDIGO ###\n",
    "############################################################\n",
    "\n",
    "toc = time.time()\n",
    "print(\"Tempo gasto: %.2f min\"%((toc-tic)/60))"
   ]
  },
  {
   "cell_type": "markdown",
   "metadata": {},
   "source": [
    "### Desempenho\n",
    "<mark>**Faça**</mark>: mostre um gráfico com o desempenho nos dados de treinamento, de validação e de teste."
   ]
  },
  {
   "cell_type": "code",
   "execution_count": null,
   "metadata": {
    "run_control": {
     "marked": false
    }
   },
   "outputs": [],
   "source": [
    "############################################################\n",
    "### SEU CÓDIGO COMEÇA AQUI ###\n",
    "None\n",
    "### FIM DO CÓDIGO ###\n",
    "############################################################"
   ]
  },
  {
   "cell_type": "markdown",
   "metadata": {},
   "source": [
    "### Imagens que falharam\n",
    "<mark>**Faça**</mark>: mostre algumas imagens que não foram classificadas corretamente."
   ]
  },
  {
   "cell_type": "code",
   "execution_count": null,
   "metadata": {},
   "outputs": [],
   "source": [
    "############################################################\n",
    "### SEU CÓDIGO COMEÇA AQUI ###\n",
    "None\n",
    "### FIM DO CÓDIGO ###\n",
    "############################################################"
   ]
  },
  {
   "cell_type": "markdown",
   "metadata": {},
   "source": [
    "### Matriz de Confusão\n",
    "<mark>**Faça**</mark>: faça a matriz de confusão da rede implementada, para os dados de teste. Use a biblioteca `sklearn.metrics` e `seaborn`."
   ]
  },
  {
   "cell_type": "code",
   "execution_count": null,
   "metadata": {},
   "outputs": [],
   "source": [
    "############################################################\n",
    "### SEU CÓDIGO COMEÇA AQUI ###\n",
    "None\n",
    "### FIM DO CÓDIGO ###\n",
    "############################################################"
   ]
  },
  {
   "cell_type": "markdown",
   "metadata": {},
   "source": [
    "## AVALIE SEU APRENDIZADO\n",
    "\n",
    "Após o desenvolvimento desta atividade, espera-se que você seja capaz de\n",
    "- utilizar funcionalidades da biblioteca Pytorch para manipular dados\n",
    "- implementar sistemas de IA usando a biblioteca Pytorch\n",
    "- compreender as principais etapas para implementação de um sistema de IA"
   ]
  }
 ],
 "metadata": {
  "kernelspec": {
   "display_name": "Python 3",
   "language": "python",
   "name": "python3"
  },
  "language_info": {
   "codemirror_mode": {
    "name": "ipython",
    "version": 3
   },
   "file_extension": ".py",
   "mimetype": "text/x-python",
   "name": "python",
   "nbconvert_exporter": "python",
   "pygments_lexer": "ipython3",
   "version": "3.11.5"
  },
  "toc": {
   "base_numbering": 1,
   "nav_menu": {
    "height": "228px",
    "width": "370px"
   },
   "number_sections": true,
   "sideBar": true,
   "skip_h1_title": false,
   "title_cell": "Table of Contents",
   "title_sidebar": "Contents",
   "toc_cell": false,
   "toc_position": {},
   "toc_section_display": true,
   "toc_window_display": false
  },
  "varInspector": {
   "cols": {
    "lenName": 16,
    "lenType": 16,
    "lenVar": 40
   },
   "kernels_config": {
    "python": {
     "delete_cmd_postfix": "",
     "delete_cmd_prefix": "del ",
     "library": "var_list.py",
     "varRefreshCmd": "print(var_dic_list())"
    },
    "r": {
     "delete_cmd_postfix": ") ",
     "delete_cmd_prefix": "rm(",
     "library": "var_list.r",
     "varRefreshCmd": "cat(var_dic_list()) "
    }
   },
   "types_to_exclude": [
    "module",
    "function",
    "builtin_function_or_method",
    "instance",
    "_Feature"
   ],
   "window_display": false
  }
 },
 "nbformat": 4,
 "nbformat_minor": 2
}
